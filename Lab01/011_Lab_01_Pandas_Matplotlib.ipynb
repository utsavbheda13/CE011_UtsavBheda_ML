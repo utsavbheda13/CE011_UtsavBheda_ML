{
  "nbformat": 4,
  "nbformat_minor": 0,
  "metadata": {
    "colab": {
      "name": "011_Lab_01_Pandas_Matplotlib.ipynb",
      "provenance": [],
      "collapsed_sections": [],
      "include_colab_link": true
    },
    "kernelspec": {
      "name": "python3",
      "display_name": "Python 3"
    },
    "language_info": {
      "name": "python"
    }
  },
  "cells": [
    {
      "cell_type": "markdown",
      "metadata": {
        "id": "view-in-github",
        "colab_type": "text"
      },
      "source": [
        "<a href=\"https://colab.research.google.com/github/utsavbheda13/CE011_UtsavBheda_ML/blob/main/Lab01/011_Lab_01_Pandas_Matplotlib.ipynb\" target=\"_parent\"><img src=\"https://colab.research.google.com/assets/colab-badge.svg\" alt=\"Open In Colab\"/></a>"
      ]
    },
    {
      "cell_type": "code",
      "metadata": {
        "colab": {
          "base_uri": "https://localhost:8080/"
        },
        "id": "YywiqRvTPlWa",
        "outputId": "034c8a7d-8271-419f-e390-90386ab3055f"
      },
      "source": [
        "from google.colab import drive\n",
        "drive.mount(\"/content/drive\")"
      ],
      "execution_count": 1,
      "outputs": [
        {
          "output_type": "stream",
          "name": "stdout",
          "text": [
            "Mounted at /content/drive\n"
          ]
        }
      ]
    },
    {
      "cell_type": "code",
      "metadata": {
        "id": "HRhEPP95S63h"
      },
      "source": [
        "# import modules\n",
        "import pandas as pd\n",
        "import numpy as np\n",
        "import matplotlib.pyplot as plt"
      ],
      "execution_count": 2,
      "outputs": []
    },
    {
      "cell_type": "code",
      "metadata": {
        "id": "hekLhOsCTjxO"
      },
      "source": [
        "# reading data\n",
        "main_data = pd.read_csv('/content/drive/MyDrive/SEM7/ML/Lab1/Data_for_Transformation.csv')"
      ],
      "execution_count": 3,
      "outputs": []
    },
    {
      "cell_type": "code",
      "metadata": {
        "colab": {
          "base_uri": "https://localhost:8080/",
          "height": 366
        },
        "id": "CRb3k9POeQm7",
        "outputId": "a85942a0-2d5e-474c-9c99-aa98235d9caa"
      },
      "source": [
        "# printing head and scatter plot\n",
        "print(main_data.head())\n",
        "plt.scatter(main_data[\"Age\"], main_data[\"Salary\"])\n",
        "plt.show()"
      ],
      "execution_count": 5,
      "outputs": [
        {
          "output_type": "stream",
          "name": "stdout",
          "text": [
            "   Country  Age  Salary Purchased\n",
            "0   France   44   72000        No\n",
            "1    Spain   27   48000       Yes\n",
            "2  Germany   30   54000        No\n",
            "3    Spain   38   61000        No\n",
            "4  Germany   40   68000       Yes\n"
          ]
        },
        {
          "output_type": "display_data",
          "data": {
            "image/png": "[encoded data removed]",
            "text/plain": [
              "<Figure size 432x288 with 1 Axes>"
            ]
          },
          "metadata": {
            "needs_background": "light"
          }
        }
      ]
    },
    {
      "cell_type": "code",
      "metadata": {
        "colab": {
          "base_uri": "https://localhost:8080/",
          "height": 265
        },
        "id": "_lr4te43hYfD",
        "outputId": "a7f333ed-dea8-4e9a-a382-b718aafe43d7"
      },
      "source": [
        "# 2nd plot\n",
        "plt.hist(main_data[\"Salary\"], bins = 10, color = \"yellow\")\n",
        "plt.show()"
      ],
      "execution_count": 6,
      "outputs": [
        {
          "output_type": "display_data",
          "data": {
            "image/png": "[encoded data removed]",
            "text/plain": [
              "<Figure size 432x288 with 1 Axes>"
            ]
          },
          "metadata": {
            "needs_background": "light"
          }
        }
      ]
    },
    {
      "cell_type": "code",
      "metadata": {
        "colab": {
          "base_uri": "https://localhost:8080/",
          "height": 350
        },
        "id": "Qgo7Tfb9hcDY",
        "outputId": "fdd3f22a-468d-4632-ad62-d03b74697b53"
      },
      "source": [
        "# 3rd plot\n",
        "fig_size = plt.figure(figsize=(7, 5))\n",
        "plt.bar(main_data[\"Country\"], main_data[\"Salary\"], color=\"green\")\n",
        "plt.ylabel(\"Salaries\")\n",
        "plt.xlabel(\"Countries\")\n",
        "plt.title(\"Bar chart of country vs salary\")\n",
        "plt.show()"
      ],
      "execution_count": 7,
      "outputs": [
        {
          "output_type": "display_data",
          "data": {
            "image/png": "[encoded data removed]",
            "text/plain": [
              "<Figure size 504x360 with 1 Axes>"
            ]
          },
          "metadata": {
            "needs_background": "light"
          }
        }
      ]
    },
    {
      "cell_type": "code",
      "metadata": {
        "id": "8Zu9JcvJhnp2"
      },
      "source": [
        ""
      ],
      "execution_count": null,
      "outputs": []
    }
  ]
}