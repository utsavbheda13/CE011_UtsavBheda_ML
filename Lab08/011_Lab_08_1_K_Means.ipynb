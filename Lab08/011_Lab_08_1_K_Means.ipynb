{
  "nbformat": 4,
  "nbformat_minor": 0,
  "metadata": {
    "colab": {
      "name": "011_Lab_08_1_K-Means.ipynb",
      "provenance": [],
      "collapsed_sections": [],
      "authorship_tag": "ABX9TyNW/HlyrKfJ9hZgKQ1xzcPR",
      "include_colab_link": true
    },
    "kernelspec": {
      "name": "python3",
      "display_name": "Python 3"
    },
    "language_info": {
      "name": "python"
    }
  },
  "cells": [
    {
      "cell_type": "markdown",
      "metadata": {
        "id": "view-in-github",
        "colab_type": "text"
      },
      "source": [
        "<a href=\"https://colab.research.google.com/github/utsavbheda13/CE011_UtsavBheda_ML/blob/main/Lab08/011_Lab_08_1_K_Means.ipynb\" target=\"_parent\"><img src=\"https://colab.research.google.com/assets/colab-badge.svg\" alt=\"Open In Colab\"/></a>"
      ]
    },
    {
      "cell_type": "markdown",
      "metadata": {
        "id": "S7qSnAEYI5e1"
      },
      "source": [
        "#Import Libraries\n"
      ]
    },
    {
      "cell_type": "code",
      "metadata": {
        "id": "7FXNRGJRJEUN"
      },
      "source": [
        "import numpy as np \n",
        "import pandas as pd \n",
        "from sklearn import datasets\n",
        "from sklearn.cluster import KMeans\n",
        "import matplotlib.pyplot as plt"
      ],
      "execution_count": null,
      "outputs": []
    },
    {
      "cell_type": "markdown",
      "metadata": {
        "id": "fP22LZbrJGmV"
      },
      "source": [
        "# Prepare Data"
      ]
    },
    {
      "cell_type": "code",
      "metadata": {
        "colab": {
          "base_uri": "https://localhost:8080/"
        },
        "id": "i7AZkhqWJMVu",
        "outputId": "a10dbcf7-0d97-4064-fdc3-ddef983f6064"
      },
      "source": [
        "dataset=datasets.load_breast_cancer()\n",
        "dataset\n",
        "\n",
        "print(dataset.data.shape)\n",
        "print(dataset.target.shape)\n"
      ],
      "execution_count": null,
      "outputs": [
        {
          "output_type": "stream",
          "name": "stdout",
          "text": [
            "(569, 30)\n",
            "(569,)\n"
          ]
        }
      ]
    },
    {
      "cell_type": "markdown",
      "metadata": {
        "id": "qozQIG6NJaJD"
      },
      "source": [
        "# K-Mean Model"
      ]
    },
    {
      "cell_type": "code",
      "metadata": {
        "colab": {
          "base_uri": "https://localhost:8080/"
        },
        "id": "K7TaVJmsJi0m",
        "outputId": "52df58bb-70be-449e-8a7b-a3fb659c8151"
      },
      "source": [
        "kmeans = KMeans(n_clusters=10, random_state=11)\n",
        "prediction = kmeans.fit_predict(dataset.data)\n",
        "print(prediction)\n",
        "\n",
        "kmeans.cluster_centers_.shape\n",
        "print(kmeans.cluster_centers_)"
      ],
      "execution_count": null,
      "outputs": [
        {
          "output_type": "stream",
          "name": "stdout",
          "text": [
            "[9 9 1 0 1 5 1 5 5 5 2 8 8 2 5 2 2 8 9 5 0 7 2 6 9 8 2 8 8 8 1 5 8 1 8 8 5\n",
            " 0 5 5 5 0 1 5 5 1 7 5 0 5 0 5 0 8 2 0 9 2 0 7 7 7 2 7 5 2 7 0 7 0 1 7 1 5\n",
            " 0 8 0 1 1 0 0 0 6 8 0 1 5 1 0 5 5 5 5 5 2 1 0 7 0 5 5 7 0 7 7 5 0 0 6 0 7\n",
            " 0 5 7 7 0 7 2 8 8 0 1 6 5 0 5 5 1 5 1 0 2 8 2 1 0 0 0 2 7 7 8 0 0 7 0 0 5\n",
            " 5 5 0 7 7 7 5 0 8 2 0 0 0 1 9 0 6 5 7 8 1 5 0 2 2 7 7 7 7 2 0 0 4 9 8 0 2\n",
            " 7 8 0 0 0 5 0 7 5 5 0 5 8 1 2 0 8 9 2 0 2 7 8 0 2 1 0 6 2 5 5 0 7 9 9 5 5\n",
            " 7 2 5 5 7 5 0 5 8 0 0 9 7 5 4 1 5 8 5 0 0 5 1 7 0 0 7 0 9 0 9 8 9 5 9 2 8\n",
            " 2 9 8 8 2 8 4 7 5 0 7 5 0 6 7 8 0 0 8 5 5 1 0 1 2 0 0 0 0 7 0 5 5 0 0 0 5\n",
            " 7 0 5 7 9 0 1 7 0 0 0 7 5 5 0 5 0 0 7 0 0 8 7 0 7 1 0 9 0 0 5 0 2 2 2 0 7\n",
            " 0 0 8 0 1 7 4 5 7 7 1 0 7 0 2 0 0 0 2 4 2 0 0 0 5 7 7 0 0 0 2 5 1 1 0 4 9\n",
            " 8 5 1 9 5 2 7 5 5 0 0 7 0 0 0 5 0 5 0 8 7 7 8 9 0 5 5 0 0 0 8 0 0 0 0 0 2\n",
            " 0 8 0 0 0 7 2 2 0 7 1 0 0 0 5 0 5 7 7 7 0 7 0 5 0 1 1 5 5 0 5 5 5 0 8 5 7\n",
            " 8 0 8 5 5 9 0 1 0 5 0 5 0 0 0 7 1 3 5 0 5 5 5 7 8 0 7 0 2 0 7 0 5 5 0 2 0\n",
            " 5 5 5 2 0 5 1 0 2 0 8 8 0 5 5 0 0 1 1 5 5 0 6 7 7 0 7 2 2 0 5 5 5 2 0 1 1\n",
            " 0 0 7 6 7 5 7 7 5 0 5 0 0 0 5 1 7 1 5 0 7 7 0 5 5 0 5 5 7 7 7 0 7 7 0 7 0\n",
            " 7 7 7 5 0 5 7 2 9 9 1 2 1 7]\n",
            "[[1.21398295e+01 1.81243750e+01 7.80391477e+01 4.53930682e+02\n",
            "  9.30579545e-02 7.96476705e-02 4.52235324e-02 2.59481023e-02\n",
            "  1.74372727e-01 6.23869886e-02 2.76667614e-01 1.19831080e+00\n",
            "  1.96479489e+00 2.04931250e+01 6.79651136e-03 2.03912898e-02\n",
            "  2.40284352e-02 9.64013636e-03 2.03964205e-02 3.30967330e-03\n",
            "  1.34010227e+01 2.41963068e+01 8.71398295e+01 5.49269318e+02\n",
            "  1.26916705e-01 1.92223466e-01 1.75752653e-01 7.78560852e-02\n",
            "  2.78232386e-01 7.95895455e-02]\n",
            " [1.92993617e+01 2.17512766e+01 1.27459574e+02 1.15872340e+03\n",
            "  9.99821277e-02 1.46731915e-01 1.71502553e-01 9.74040426e-02\n",
            "  1.93663830e-01 6.02644681e-02 7.08710638e-01 1.24907660e+00\n",
            "  4.92457447e+00 8.57978723e+01 6.77202128e-03 3.29246809e-02\n",
            "  4.40670213e-02 1.61012979e-02 2.21217021e-02 3.89431915e-03\n",
            "  2.32834043e+01 2.88346809e+01 1.55308511e+02 1.64951064e+03\n",
            "  1.38865957e-01 3.60872340e-01 4.48112766e-01 1.86787234e-01\n",
            "  3.18602128e-01 8.55921277e-02]\n",
            " [1.54638000e+01 2.02392000e+01 1.01397600e+02 7.40524000e+02\n",
            "  1.00539400e-01 1.25822000e-01 1.23348200e-01 6.54630000e-02\n",
            "  1.85918000e-01 6.26102000e-02 3.90868000e-01 1.03997400e+00\n",
            "  2.75976000e+00 3.72140000e+01 6.65860000e-03 2.82472800e-02\n",
            "  3.78898000e-02 1.35351000e-02 1.91477200e-02 3.67792000e-03\n",
            "  1.80026000e+01 2.75786000e+01 1.19620000e+02 9.92134000e+02\n",
            "  1.41392800e-01 3.39973200e-01 3.95144000e-01 1.54146800e-01\n",
            "  3.16380000e-01 9.00534000e-02]\n",
            " [2.74200000e+01 2.62700000e+01 1.86900000e+02 2.50100000e+03\n",
            "  1.08400000e-01 1.98800000e-01 3.63500000e-01 1.68900000e-01\n",
            "  2.06100000e-01 5.62300000e-02 2.54700000e+00 1.30600000e+00\n",
            "  1.86500000e+01 5.42200000e+02 7.65000000e-03 5.37400000e-02\n",
            "  8.05500000e-02 2.59800000e-02 1.69700000e-02 4.55800000e-03\n",
            "  3.60400000e+01 3.13700000e+01 2.51200000e+02 4.25400000e+03\n",
            "  1.35700000e-01 4.25600000e-01 6.83300000e-01 2.62500000e-01\n",
            "  2.64100000e-01 7.42700000e-02]\n",
            " [2.36850000e+01 2.31566667e+01 1.56916667e+02 1.77366667e+03\n",
            "  1.02470000e-01 1.54020000e-01 2.17200000e-01 1.35818333e-01\n",
            "  1.82466667e-01 5.73900000e-02 1.04615000e+00 1.14798333e+00\n",
            "  7.03883333e+00 1.70916667e+02 5.63983333e-03 2.36733333e-02\n",
            "  3.28216667e-02 1.31516667e-02 1.60150000e-02 2.73416667e-03\n",
            "  3.18616667e+01 3.25450000e+01 2.12000000e+02 3.14583333e+03\n",
            "  1.46033333e-01 3.50783333e-01 4.78883333e-01 2.26750000e-01\n",
            "  2.93666667e-01 8.00400000e-02]\n",
            " [1.39387395e+01 1.90294958e+01 9.04831933e+01 6.00262185e+02\n",
            "  9.39314286e-02 1.00406387e-01 7.45220756e-02 4.14941345e-02\n",
            "  1.75155462e-01 6.16680672e-02 3.13209244e-01 1.08587899e+00\n",
            "  2.26420084e+00 2.71161345e+01 5.84906723e-03 2.42642689e-02\n",
            "  2.82606723e-02 1.11375714e-02 1.78284202e-02 3.49648571e-03\n",
            "  1.57033613e+01 2.55010924e+01 1.03702605e+02 7.57455462e+02\n",
            "  1.28325294e-01 2.62771765e-01 2.65218908e-01 1.12402101e-01\n",
            "  2.83356303e-01 8.43820168e-02]\n",
            " [2.37500000e+01 2.11944444e+01 1.59244444e+02 1.75011111e+03\n",
            "  1.07433333e-01 1.92500000e-01 2.63044444e-01 1.40782222e-01\n",
            "  1.94166667e-01 6.16344444e-02 1.25552222e+00 1.39952222e+00\n",
            "  9.29744444e+00 1.90815556e+02 8.61422222e-03 4.69666667e-02\n",
            "  5.96800000e-02 1.74600000e-02 2.50555556e-02 4.80877778e-03\n",
            "  2.87344444e+01 2.74311111e+01 1.97022222e+02 2.48000000e+03\n",
            "  1.39488889e-01 4.17266667e-01 5.16111111e-01 2.28388889e-01\n",
            "  2.95433333e-01 8.48355556e-02]\n",
            " [9.87515385e+00 1.78310989e+01 6.31275824e+01 2.99732967e+02\n",
            "  9.64635165e-02 8.09469231e-02 4.46973846e-02 1.89206154e-02\n",
            "  1.83812088e-01 6.83807692e-02 2.95191209e-01 1.51460549e+00\n",
            "  2.02103187e+00 1.79611868e+01 9.95848352e-03 2.56543407e-02\n",
            "  3.31990110e-02 1.02651538e-02 2.54141758e-02 4.97217582e-03\n",
            "  1.08238352e+01 2.29446154e+01 6.97957143e+01 3.58796703e+02\n",
            "  1.31465934e-01 1.64161758e-01 1.40192637e-01 5.34132967e-02\n",
            "  2.73173626e-01 8.52007692e-02]\n",
            " [1.72869565e+01 2.12302174e+01 1.13873913e+02 9.32139130e+02\n",
            "  9.95578261e-02 1.33787826e-01 1.40148913e-01 8.17313043e-02\n",
            "  1.90567391e-01 6.09047826e-02 5.72460870e-01 1.27289565e+00\n",
            "  4.09880435e+00 6.27041304e+01 6.37152174e-03 3.00010217e-02\n",
            "  3.73045652e-02 1.49175435e-02 1.98891304e-02 4.01458696e-03\n",
            "  2.05626087e+01 2.84769565e+01 1.36710870e+02 1.30030435e+03\n",
            "  1.38533478e-01 3.22255652e-01 3.89013043e-01 1.69940652e-01\n",
            "  3.12139130e-01 8.53423913e-02]\n",
            " [2.02387500e+01 2.21650000e+01 1.34295833e+02 1.28227500e+03\n",
            "  1.04119583e-01 1.60014167e-01 2.05120833e-01 1.14455000e-01\n",
            "  1.92020833e-01 6.12808333e-02 7.66895833e-01 1.01625417e+00\n",
            "  5.37841667e+00 1.00878750e+02 6.02283333e-03 3.03270833e-02\n",
            "  4.32558333e-02 1.55868750e-02 1.72483333e-02 3.85025000e-03\n",
            "  2.57820833e+01 2.96491667e+01 1.72391667e+02 2.04983333e+03\n",
            "  1.46254167e-01 3.98658333e-01 5.29562500e-01 2.20404167e-01\n",
            "  3.19550000e-01 9.13916667e-02]]\n"
          ]
        }
      ]
    },
    {
      "cell_type": "markdown",
      "metadata": {
        "id": "UihgghsqJ4CM"
      },
      "source": [
        "#Scatter plot of the data points"
      ]
    },
    {
      "cell_type": "code",
      "metadata": {
        "colab": {
          "base_uri": "https://localhost:8080/",
          "height": 197
        },
        "id": "0lq2r4a5Juz3",
        "outputId": "0c5bd59e-4387-4c73-f24b-5a156664afe5"
      },
      "source": [
        "# Scatter plot of the data points\n",
        "import matplotlib.pyplot as plt\n",
        "fig, ax = plt.subplots(2, 5, figsize=(8, 3))\n",
        "centers = kmeans.cluster_centers_.reshape(10, 6, 5)\n",
        "for axi, center in zip(ax.flat, centers):\n",
        "  axi.set(xticks=[], yticks=[])\n",
        "  axi.imshow(center, interpolation='nearest', cmap=plt.cm.binary)"
      ],
      "execution_count": null,
      "outputs": [
        {
          "output_type": "display_data",
          "data": {
            "image/png": "[encoded data removed]",
            "text/plain": [
              "<Figure size 576x216 with 10 Axes>"
            ]
          },
          "metadata": {}
        }
      ]
    },
    {
      "cell_type": "code",
      "metadata": {
        "id": "MZlMnq52KCac"
      },
      "source": [
        "import numpy as np\n",
        "from scipy.stats import mode\n",
        "labels = np.zeros_like(prediction)\n",
        "for i in range(10):\n",
        "  mask = (prediction == i)\n",
        "  labels[mask] = mode(dataset.target[mask])[0]"
      ],
      "execution_count": null,
      "outputs": []
    },
    {
      "cell_type": "code",
      "metadata": {
        "colab": {
          "base_uri": "https://localhost:8080/"
        },
        "id": "6X98BQgcKLin",
        "outputId": "0185d2dd-1e38-4e2e-90cd-90961e3c7a32"
      },
      "source": [
        "from sklearn.metrics import accuracy_score\n",
        "accuracy_score(dataset.target, labels)"
      ],
      "execution_count": null,
      "outputs": [
        {
          "output_type": "execute_result",
          "data": {
            "text/plain": [
              "0.9068541300527241"
            ]
          },
          "metadata": {},
          "execution_count": 12
        }
      ]
    },
    {
      "cell_type": "code",
      "metadata": {
        "colab": {
          "base_uri": "https://localhost:8080/",
          "height": 279
        },
        "id": "X-CKx1rCKOpg",
        "outputId": "8851681a-140b-4db9-8485-0c532f010dd0"
      },
      "source": [
        "from sklearn.metrics import confusion_matrix\n",
        "import seaborn as sns\n",
        "mat = confusion_matrix(dataset.target, labels)\n",
        "ax = sns.heatmap(mat.T, square=True, annot=True, fmt='d', cbar=False,xticklabels=dataset.target_names,yticklabels=dataset.target_names)\n",
        "\n",
        "#ax.set_ylim(10,10)\n",
        "plt.xlabel('true label')\n",
        "plt.ylabel('predicted label');"
      ],
      "execution_count": null,
      "outputs": [
        {
          "output_type": "display_data",
          "data": {
            "image/png": "[encoded data removed]",
            "text/plain": [
              "<Figure size 432x288 with 1 Axes>"
            ]
          },
          "metadata": {
            "needs_background": "light"
          }
        }
      ]
    },
    {
      "cell_type": "code",
      "metadata": {
        "id": "CHUsOEzNKTgo"
      },
      "source": [
        ""
      ],
      "execution_count": null,
      "outputs": []
    }
  ]
}