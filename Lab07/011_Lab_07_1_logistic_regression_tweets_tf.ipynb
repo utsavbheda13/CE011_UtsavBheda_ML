{
  "nbformat": 4,
  "nbformat_minor": 0,
  "metadata": {
    "colab": {
      "name": "011_Lab_07_1_logistic-regression_tweets_tf.ipynb",
      "provenance": [],
      "authorship_tag": "ABX9TyMxiM8VrJ91KMSuCUTcxxl3",
      "include_colab_link": true
    },
    "kernelspec": {
      "name": "python3",
      "display_name": "Python 3"
    },
    "language_info": {
      "name": "python"
    }
  },
  "cells": [
    {
      "cell_type": "markdown",
      "metadata": {
        "id": "view-in-github",
        "colab_type": "text"
      },
      "source": [
        "<a href=\"https://colab.research.google.com/github/utsavbheda13/CE011_UtsavBheda_ML/blob/main/Lab07/011_Lab_07_1_logistic_regression_tweets_tf.ipynb\" target=\"_parent\"><img src=\"https://colab.research.google.com/assets/colab-badge.svg\" alt=\"Open In Colab\"/></a>"
      ]
    },
    {
      "cell_type": "code",
      "metadata": {
        "id": "ltnC-DbVFNrl",
        "colab": {
          "base_uri": "https://localhost:8080/"
        },
        "outputId": "99a32300-27b5-4768-f4de-e167b01b7caf"
      },
      "source": [
        "import nltk\n",
        "from nltk.corpus import twitter_samples \n",
        "import pandas as pd\n",
        "from sklearn.model_selection import train_test_split\n",
        "import tensorflow.compat.v1 as tf\n",
        "tf.disable_v2_behavior()"
      ],
      "execution_count": 1,
      "outputs": [
        {
          "output_type": "stream",
          "name": "stdout",
          "text": [
            "WARNING:tensorflow:From /usr/local/lib/python3.7/dist-packages/tensorflow/python/compat/v2_compat.py:101: disable_resource_variables (from tensorflow.python.ops.variable_scope) is deprecated and will be removed in a future version.\n",
            "Instructions for updating:\n",
            "non-resource variables are not supported in the long term\n"
          ]
        }
      ]
    },
    {
      "cell_type": "code",
      "metadata": {
        "id": "nEw35lgbIKmJ",
        "colab": {
          "base_uri": "https://localhost:8080/"
        },
        "outputId": "86c2bccd-eddb-422d-eab1-b6d7a88bb87e"
      },
      "source": [
        "\n",
        "nltk.download('twitter_samples')\n",
        "nltk.download('stopwords')"
      ],
      "execution_count": 2,
      "outputs": [
        {
          "output_type": "stream",
          "name": "stdout",
          "text": [
            "[nltk_data] Downloading package twitter_samples to /root/nltk_data...\n",
            "[nltk_data]   Unzipping corpora/twitter_samples.zip.\n",
            "[nltk_data] Downloading package stopwords to /root/nltk_data...\n",
            "[nltk_data]   Unzipping corpora/stopwords.zip.\n"
          ]
        },
        {
          "output_type": "execute_result",
          "data": {
            "text/plain": [
              "True"
            ]
          },
          "metadata": {},
          "execution_count": 2
        }
      ]
    },
    {
      "cell_type": "code",
      "metadata": {
        "id": "K8zAwNf3IcwC"
      },
      "source": [
        "import re\n",
        "import string\n",
        "import numpy as np\n",
        "\n",
        "from nltk.corpus import stopwords\n",
        "from nltk.stem import PorterStemmer\n",
        "from nltk.tokenize import TweetTokenizer"
      ],
      "execution_count": 3,
      "outputs": []
    },
    {
      "cell_type": "code",
      "metadata": {
        "id": "VOkRSbEw1Shr"
      },
      "source": [
        "#process_tweet(): cleans the text, tokenizes it into separate words, removes stopwords, and converts words to stems.\n",
        "def process_tweet(tweet):\n",
        "    \"\"\"Process tweet function.\n",
        "    Input:\n",
        "        tweet: a string containing a tweet\n",
        "    Output:\n",
        "        tweets_clean: a list of words containing the processed tweet\n",
        "\n",
        "    \"\"\"\n",
        "    stemmer = PorterStemmer()\n",
        "    stopwords_english = stopwords.words('english')\n",
        "\n",
        "    # remove stock market tickers like $GE\n",
        "    tweet = re.sub(r'\\$\\w*', '', tweet)\n",
        "    # remove old style retweet text \"RT\"\n",
        "    tweet = re.sub(r'^RT[\\s]+', '', tweet)\n",
        "    # remove hyperlinks\n",
        "    tweet = re.sub(r'https?:\\/\\/.*[\\r\\n]*', '', tweet)\n",
        "    # remove hashtags\n",
        "    # only removing the hash # sign from the word\n",
        "    tweet = re.sub(r'#', '', tweet)\n",
        "    # tokenize tweets\n",
        "\n",
        "\n",
        "    tokenizer = TweetTokenizer(preserve_case=False, strip_handles=True,\n",
        "                               reduce_len=True)\n",
        "    tweet_tokens = tokenizer.tokenize(tweet)\n",
        "\n",
        "    tweets_clean = []\n",
        "    for word in tweet_tokens:  \n",
        "        #############################################################\n",
        "        # 1 remove stopwords\n",
        "        # 2 remove punctuation\n",
        "        # 3 stemming word\n",
        "        # 4 Add it to tweets_clean\n",
        "        if(word not in stopwords_english and word not in string.punctuation):\n",
        "            stem_word = stemmer.stem(word)\n",
        "            tweets_clean.append(stem_word)\n",
        "    return tweets_clean"
      ],
      "execution_count": 4,
      "outputs": []
    },
    {
      "cell_type": "code",
      "metadata": {
        "id": "f6v_JLxe1ZXh"
      },
      "source": [
        "#build_freqs counts how often a word in the 'corpus' (the entire set of tweets) was associated with\n",
        "  # a positive label '1'         or \n",
        "  # a negative label '0', \n",
        "\n",
        "#then builds the freqs dictionary, where each key is a (word,label) tuple, \n",
        "\n",
        "#and the value is the count of its frequency within the corpus of tweets.\n",
        "\n",
        "def build_freqs(tweets, ys):\n",
        "    \"\"\"Build frequencies.\n",
        "    Input:\n",
        "        tweets: a list of tweets\n",
        "        ys: an m x 1 array with the sentiment label of each tweet\n",
        "            (either 0 or 1)\n",
        "    Output:\n",
        "        freqs: a dictionary mapping each (word, sentiment) pair to its\n",
        "        frequency\n",
        "    \"\"\"\n",
        "    # Convert np array to list since zip needs an iterable.\n",
        "    # The squeeze is necessary or the list ends up with one element.\n",
        "    # Also note that this is just a NOP if ys is already a list.\n",
        "    yslist = np.squeeze(ys).tolist()\n",
        "\n",
        "    # Start with an empty dictionary and populate it by looping over all tweets\n",
        "    # and over all processed words in each tweet.\n",
        "    freqs = {}\n",
        "\n",
        "    for y, tweet in zip(yslist, tweets):\n",
        "        for word in process_tweet(tweet):\n",
        "            pair = (word, y) \n",
        "            #############################################################\n",
        "            #Update the count of pair if present, set it to 1 otherwise\n",
        "            if pair in freqs:\n",
        "              freqs[pair] += 1\n",
        "            else:\n",
        "              freqs[pair] = 1\n",
        "\n",
        "    return freqs"
      ],
      "execution_count": 5,
      "outputs": []
    },
    {
      "cell_type": "markdown",
      "metadata": {
        "id": "zG07lgkRFNtF"
      },
      "source": [
        "### Prepare the data\n",
        "* The `twitter_samples` contains subsets of 5,000 positive tweets, 5,000 negative tweets, and the full set of 10,000 tweets.  "
      ]
    },
    {
      "cell_type": "code",
      "metadata": {
        "id": "Mt_btshaFNtJ"
      },
      "source": [
        "# select the set of positive and negative tweets\n",
        "all_positive_tweets = twitter_samples.strings('positive_tweets.json')\n",
        "all_negative_tweets = twitter_samples.strings('negative_tweets.json')"
      ],
      "execution_count": 6,
      "outputs": []
    },
    {
      "cell_type": "markdown",
      "metadata": {
        "id": "bFUFtkzCFNt7"
      },
      "source": [
        "* Train test split: 20% will be in the test set, and 80% in the training set.\n"
      ]
    },
    {
      "cell_type": "code",
      "metadata": {
        "id": "PNp1zFFmFNuA"
      },
      "source": [
        "# # split the data into two pieces, one for training and one for testing\n",
        "# #############################################################\n",
        "# test_pos = all_positive_tweets[4000:]\n",
        "# train_pos = all_positive_tweets[:4000]\n",
        "# test_neg = all_negative_tweets[4000:]\n",
        "# train_neg = all_negative_tweets[:4000]\n",
        "\n",
        "# train_x = train_pos + train_neg\n",
        "# test_x = test_pos + test_neg"
      ],
      "execution_count": 7,
      "outputs": []
    },
    {
      "cell_type": "markdown",
      "metadata": {
        "id": "JyC4UAjZFNuT"
      },
      "source": [
        "* Create the numpy array of positive labels and negative labels."
      ]
    },
    {
      "cell_type": "code",
      "metadata": {
        "id": "xS1wvGq7FNuX"
      },
      "source": [
        "# # combine positive and negative labels\n",
        "# train_y = np.append(np.ones((len(train_pos), 1)), np.zeros((len(train_neg), 1)), axis=0)\n",
        "# test_y = np.append(np.ones((len(test_pos), 1)), np.zeros((len(test_neg), 1)), axis=0)"
      ],
      "execution_count": 8,
      "outputs": []
    },
    {
      "cell_type": "code",
      "metadata": {
        "id": "SOikeLT0DelO"
      },
      "source": [
        "Final_data = all_positive_tweets+all_negative_tweets\n",
        "data =np.append(np.ones((len(all_positive_tweets), 1)), np.zeros((len(all_negative_tweets), 1)), axis=0)\n",
        "train_x,test_x,train_y,test_y = train_test_split(Final_data,data,test_size=0.25,random_state= 11)"
      ],
      "execution_count": 9,
      "outputs": []
    },
    {
      "cell_type": "markdown",
      "metadata": {
        "id": "RvppFUyLFNu2"
      },
      "source": [
        "* Create the frequency dictionary using the  `build_freqs()` function.  \n",
        "    \n"
      ]
    },
    {
      "cell_type": "code",
      "metadata": {
        "id": "ggrsgUh4FNu5",
        "colab": {
          "base_uri": "https://localhost:8080/"
        },
        "outputId": "9fe018de-871c-430d-9471-97c838f333cf"
      },
      "source": [
        "# create frequency dictionary\n",
        "#############################################################\n",
        "freqs = build_freqs(train_x,train_y)\n",
        "\n",
        "# check the output\n",
        "print(\"type(freqs) = \" + str(type(freqs)))\n",
        "print(\"len(freqs) = \" + str(len(freqs.keys())))"
      ],
      "execution_count": 10,
      "outputs": [
        {
          "output_type": "stream",
          "name": "stdout",
          "text": [
            "type(freqs) = <class 'dict'>\n",
            "len(freqs) = 10895\n"
          ]
        }
      ]
    },
    {
      "cell_type": "markdown",
      "metadata": {
        "id": "-pMQQEM8FNxr"
      },
      "source": [
        "## Extracting the features\n",
        "\n",
        "* Given a list of tweets, extract the features and store them in a matrix. You will extract two features.\n",
        "    * The first feature is the number of positive words in a tweet.\n",
        "    * The second feature is the number of negative words in a tweet. \n",
        "* Then train your logistic regression classifier on these features.\n",
        "* Test the classifier on a validation set. \n"
      ]
    },
    {
      "cell_type": "code",
      "metadata": {
        "id": "tBqwBhBoFNx0"
      },
      "source": [
        "def extract_features(tweet, freqs):\n",
        "    '''\n",
        "    Input: \n",
        "        tweet: a list of words for one tweet\n",
        "        freqs: a dictionary corresponding to the frequencies of each tuple (word, label)\n",
        "    Output: \n",
        "        x: a feature vector of dimension (1,3)\n",
        "    '''\n",
        "    # tokenizes, stems, and removes stopwords\n",
        "    #############################################################\n",
        "    word_l = process_tweet(tweet)\n",
        "    \n",
        "    # 2 elements in the form of a 1 x 2 vector\n",
        "    x = np.zeros((1, 2)) \n",
        "     \n",
        "        \n",
        "    # loop through each word in the list of words\n",
        "    for word in word_l:\n",
        "        # increment the word count for the positive label 1\n",
        "        if((word,1) in freqs):\n",
        "          x[0,0]+=freqs[word,1]\n",
        "        # increment the word count for the negative label 0\n",
        "        if((word,0) in freqs):\n",
        "          x[0,1]+=freqs[word,0]\n",
        "    \n",
        "    assert(x.shape == (1, 2))\n",
        "    return x[0]"
      ],
      "execution_count": 11,
      "outputs": []
    },
    {
      "cell_type": "code",
      "metadata": {
        "id": "9Zac7-l0FluN"
      },
      "source": [
        "#pred function\n",
        "def predict_tweet(tweet):\n",
        "    with tf.Session() as sess:\n",
        "      saver.restore(sess,save_path='TSession')\n",
        "      data_i=[]\n",
        "      for t in tweet:\n",
        "        data_i.append(extract_features(t,freqs))\n",
        "      data_i=np.asarray(data_i)\n",
        "      return sess.run(tf.nn.sigmoid(tf.add(tf.matmul(a=data_i,b=W,transpose_b=True),bias)))\n",
        "    print(\"--Fail--\")\n",
        "    return"
      ],
      "execution_count": 12,
      "outputs": []
    },
    {
      "cell_type": "code",
      "metadata": {
        "id": "DTvbyH68FpcJ"
      },
      "source": [
        "bias=tf.Variable(np.random.randn(1),name=\"Bias\")\n",
        "W=tf.Variable(np.random.randn(1,2),name=\"Weight\")"
      ],
      "execution_count": 13,
      "outputs": []
    },
    {
      "cell_type": "code",
      "metadata": {
        "id": "gVMABY8pFvcp"
      },
      "source": [
        "data=[]\n",
        "for t in train_x:\n",
        "  data.append(extract_features(t,freqs))\n",
        "data=np.asarray(data)"
      ],
      "execution_count": 14,
      "outputs": []
    },
    {
      "cell_type": "code",
      "metadata": {
        "colab": {
          "base_uri": "https://localhost:8080/"
        },
        "id": "vqA64f_QFy8g",
        "outputId": "fb640e33-dfd5-42ce-d63d-0bb922cc1d84"
      },
      "source": [
        "Y_hat = tf.nn.sigmoid(tf.add(tf.matmul(np.asarray(data), W,transpose_b=True), bias)) \n",
        "ta=np.asarray(train_y)\n",
        "Total_cost = tf.nn.sigmoid_cross_entropy_with_logits(logits = Y_hat, labels = ta) \n",
        "print(Total_cost)"
      ],
      "execution_count": 15,
      "outputs": [
        {
          "output_type": "stream",
          "name": "stdout",
          "text": [
            "Tensor(\"logistic_loss:0\", shape=(7500, 1), dtype=float64)\n"
          ]
        }
      ]
    },
    {
      "cell_type": "code",
      "metadata": {
        "id": "8ikQdvruGO0P"
      },
      "source": [
        "# Gradient Descent Optimizer \n",
        "optimizer = tf.train.GradientDescentOptimizer(learning_rate = 0.00001 ,name=\"GradientDescent\").minimize(Total_cost) \n",
        "# Global Variables Initializer \n",
        "init = tf.global_variables_initializer()"
      ],
      "execution_count": 16,
      "outputs": []
    },
    {
      "cell_type": "code",
      "metadata": {
        "colab": {
          "base_uri": "https://localhost:8080/"
        },
        "id": "GjDZ0LkAGQMF",
        "outputId": "8a6bae98-3933-4f8b-9854-6a8bc4c5992c"
      },
      "source": [
        "saver = tf.train.Saver()\n",
        "with tf.Session() as sess:\n",
        "  \n",
        "  sess.run(init)\n",
        "  print(\"Bias\",sess.run(bias))\n",
        "  print(\"Weight\",sess.run(W))\n",
        "  for epoch in range(1000):\n",
        "    sess.run(optimizer)\n",
        "    preds=sess.run(Y_hat)\n",
        "    acc=((preds==ta).sum())/len(train_y)\n",
        "    Accuracy=[]\n",
        "    repoch=False\n",
        "    if repoch:\n",
        "      Accuracy.append(acc)\n",
        "    if epoch % 1000 == 0:\n",
        "      print(\"Accuracy\",acc)\n",
        "    saved_path = saver.save(sess, 'TSession')"
      ],
      "execution_count": 17,
      "outputs": [
        {
          "output_type": "stream",
          "name": "stdout",
          "text": [
            "Bias [-1.62630599]\n",
            "Weight [[-0.18192535  0.6631998 ]]\n",
            "Accuracy 0.046533333333333336\n"
          ]
        }
      ]
    },
    {
      "cell_type": "code",
      "metadata": {
        "colab": {
          "base_uri": "https://localhost:8080/"
        },
        "id": "6dqh-5RyGW2C",
        "outputId": "82c8ad14-81a4-4e86-91c8-9cb72608a96b"
      },
      "source": [
        "preds=predict_tweet(test_x)\n",
        "print(preds,len(test_y))"
      ],
      "execution_count": 18,
      "outputs": [
        {
          "output_type": "stream",
          "name": "stdout",
          "text": [
            "INFO:tensorflow:Restoring parameters from TSession\n",
            "[[1.]\n",
            " [1.]\n",
            " [1.]\n",
            " ...\n",
            " [1.]\n",
            " [1.]\n",
            " [1.]] 2500\n"
          ]
        }
      ]
    },
    {
      "cell_type": "code",
      "metadata": {
        "id": "2Fh_gJ59GcN8"
      },
      "source": [
        "def accuracy(x,y):\n",
        "  return ((x==y).sum())/len(y)\n"
      ],
      "execution_count": 19,
      "outputs": []
    },
    {
      "cell_type": "code",
      "metadata": {
        "colab": {
          "base_uri": "https://localhost:8080/"
        },
        "id": "jvbnT6oWGgyM",
        "outputId": "1f1355a5-7b2d-4e67-e778-72aee9b37b70"
      },
      "source": [
        "print(accuracy(preds,test_y))"
      ],
      "execution_count": 20,
      "outputs": [
        {
          "output_type": "stream",
          "name": "stdout",
          "text": [
            "0.4752\n"
          ]
        }
      ]
    },
    {
      "cell_type": "code",
      "metadata": {
        "id": "SAsSyT-xGk13"
      },
      "source": [
        ""
      ],
      "execution_count": null,
      "outputs": []
    }
  ]
}